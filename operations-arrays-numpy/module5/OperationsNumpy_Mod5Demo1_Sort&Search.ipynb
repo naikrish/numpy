{
  "nbformat": 4,
  "nbformat_minor": 0,
  "metadata": {
    "colab": {
      "provenance": [],
      "authorship_tag": "ABX9TyPHS19lNn4XS02OVAiIOC/U",
      "include_colab_link": true
    },
    "kernelspec": {
      "name": "python3",
      "display_name": "Python 3"
    },
    "language_info": {
      "name": "python"
    }
  },
  "cells": [
    {
      "cell_type": "markdown",
      "metadata": {
        "id": "view-in-github",
        "colab_type": "text"
      },
      "source": [
        "<a href=\"https://colab.research.google.com/github/axel-sirota/operations-arrays-numpy/blob/main/module5/OperationsNumpy_Mod5Demo1_Sort%26Search.ipynb\" target=\"_parent\"><img src=\"https://colab.research.google.com/assets/colab-badge.svg\" alt=\"Open In Colab\"/></a>"
      ]
    },
    {
      "cell_type": "markdown",
      "source": [
        "# Arithmetic on Numpy"
      ],
      "metadata": {
        "id": "kJ1k7bOkICai"
      }
    },
    {
      "cell_type": "markdown",
      "source": [
        "## Prep"
      ],
      "metadata": {
        "id": "W7lC_7pNeTml"
      }
    },
    {
      "cell_type": "markdown",
      "source": [
        "Let's recall how to access data in lists. For that we will leverage the dtaset for this course, whch is the results of an actual beheivoural experiment conducted by Universidad de la Matanza (UNLaM)"
      ],
      "metadata": {
        "id": "n5GNF-_2IFhN"
      }
    },
    {
      "cell_type": "code",
      "source": [
        "%%writefile get_data.sh\n",
        "if [ ! -f dataset.csv ]; then\n",
        "  wget -O dataset.csv https://www.dropbox.com/s/9t5lc04vxwvjvo6/dataset.csv?dl=0\n",
        "fi"
      ],
      "metadata": {
        "colab": {
          "base_uri": "https://localhost:8080/"
        },
        "id": "NzUB82EcIWB8",
        "outputId": "05b85fc7-e426-4d29-876e-48662c0adc3c"
      },
      "execution_count": 18,
      "outputs": [
        {
          "output_type": "stream",
          "name": "stdout",
          "text": [
            "Overwriting get_data.sh\n"
          ]
        }
      ]
    },
    {
      "cell_type": "code",
      "source": [
        "!bash get_data.sh\n"
      ],
      "metadata": {
        "id": "hh-cUVYvIgdK"
      },
      "execution_count": 19,
      "outputs": []
    },
    {
      "cell_type": "code",
      "execution_count": 20,
      "metadata": {
        "id": "PsZMIKkLHh-4"
      },
      "outputs": [],
      "source": [
        "import numpy as np"
      ]
    },
    {
      "cell_type": "code",
      "source": [
        "numpy_arr = np.genfromtxt('dataset.csv', delimiter=',')"
      ],
      "metadata": {
        "id": "RsLI_E9tpDWd"
      },
      "execution_count": 21,
      "outputs": []
    },
    {
      "cell_type": "markdown",
      "source": [
        "## Basic Sorting in NumPy"
      ],
      "metadata": {
        "id": "l2OfZAJOKWPh"
      }
    },
    {
      "cell_type": "markdown",
      "source": [
        "There is one basic method for sorting a NumPy array, and a couple of auxiliary methods. Let's review them.\n",
        "\n",
        "The basic method is `np.sort(arr)`"
      ],
      "metadata": {
        "id": "Imyehb-yTAQB"
      }
    },
    {
      "cell_type": "code",
      "source": [
        "a = numpy_arr[3, :11]\n",
        "a"
      ],
      "metadata": {
        "id": "y_YFmddDTKI7",
        "colab": {
          "base_uri": "https://localhost:8080/"
        },
        "outputId": "9f53ae49-87ce-49b6-c0c1-310cde5043ca"
      },
      "execution_count": 22,
      "outputs": [
        {
          "output_type": "execute_result",
          "data": {
            "text/plain": [
              "array([3.  , 0.  , 2.  , 0.  , 2.  , 1.33, 5.  , 4.  , 5.  , 4.67, 3.33])"
            ]
          },
          "metadata": {},
          "execution_count": 22
        }
      ]
    },
    {
      "cell_type": "code",
      "source": [
        "np.sort(a)"
      ],
      "metadata": {
        "id": "IlPXf8xNUtVP",
        "colab": {
          "base_uri": "https://localhost:8080/"
        },
        "outputId": "3ed42e46-a19c-41fa-f7b0-c3e8cf54e0f5"
      },
      "execution_count": 23,
      "outputs": [
        {
          "output_type": "execute_result",
          "data": {
            "text/plain": [
              "array([0.  , 0.  , 1.33, 2.  , 2.  , 3.  , 3.33, 4.  , 4.67, 5.  , 5.  ])"
            ]
          },
          "metadata": {},
          "execution_count": 23
        }
      ]
    },
    {
      "cell_type": "markdown",
      "source": [
        "Notice the end result is sorted (in numerical order). If we provide a hiher dimensional array let's see what happens"
      ],
      "metadata": {
        "id": "RvRmQDUQstvx"
      }
    },
    {
      "cell_type": "code",
      "source": [
        "b = numpy_arr[1:3, :11]\n",
        "b"
      ],
      "metadata": {
        "colab": {
          "base_uri": "https://localhost:8080/"
        },
        "id": "U_VhB1bissL_",
        "outputId": "5d127068-ddff-4b88-cc71-47c5872ba9d8"
      },
      "execution_count": 24,
      "outputs": [
        {
          "output_type": "execute_result",
          "data": {
            "text/plain": [
              "array([[ 1.  ,  0.  ,  4.  ,  0.  ,  4.  ,  2.67,  3.  ,  2.  ,  2.  ,\n",
              "         2.33, -0.33],\n",
              "       [ 2.  ,  0.  ,  3.  ,  0.  ,  2.  ,  1.67,  4.  ,  4.  ,  4.  ,\n",
              "         4.  ,  2.33]])"
            ]
          },
          "metadata": {},
          "execution_count": 24
        }
      ]
    },
    {
      "cell_type": "code",
      "source": [
        "np.sort(b)"
      ],
      "metadata": {
        "colab": {
          "base_uri": "https://localhost:8080/"
        },
        "id": "UtYH779WtOOs",
        "outputId": "b71448c2-ee75-40c4-f5f9-c2551f700063"
      },
      "execution_count": 25,
      "outputs": [
        {
          "output_type": "execute_result",
          "data": {
            "text/plain": [
              "array([[-0.33,  0.  ,  0.  ,  1.  ,  2.  ,  2.  ,  2.33,  2.67,  3.  ,\n",
              "         4.  ,  4.  ],\n",
              "       [ 0.  ,  0.  ,  1.67,  2.  ,  2.  ,  2.33,  3.  ,  4.  ,  4.  ,\n",
              "         4.  ,  4.  ]])"
            ]
          },
          "metadata": {},
          "execution_count": 25
        }
      ]
    },
    {
      "cell_type": "markdown",
      "source": [
        "So, running `np.sort` on a numpy array applies the sort function per row, that means it applies over columns (which is the last axis) "
      ],
      "metadata": {
        "id": "ZQoa0EHKtZCt"
      }
    },
    {
      "cell_type": "code",
      "source": [
        "np.sort(b, axis=0)"
      ],
      "metadata": {
        "colab": {
          "base_uri": "https://localhost:8080/"
        },
        "id": "-MVVny6dtPVs",
        "outputId": "35fff16b-fe58-4909-9b21-a126e13115c4"
      },
      "execution_count": 26,
      "outputs": [
        {
          "output_type": "execute_result",
          "data": {
            "text/plain": [
              "array([[ 1.  ,  0.  ,  3.  ,  0.  ,  2.  ,  1.67,  3.  ,  2.  ,  2.  ,\n",
              "         2.33, -0.33],\n",
              "       [ 2.  ,  0.  ,  4.  ,  0.  ,  4.  ,  2.67,  4.  ,  4.  ,  4.  ,\n",
              "         4.  ,  2.33]])"
            ]
          },
          "metadata": {},
          "execution_count": 26
        }
      ]
    },
    {
      "cell_type": "markdown",
      "source": [
        "As expected then, if we change the axis to apply oer column over all rows, we get a different array.\n",
        "\n",
        "**Lesson: np.sort applies over the last dimension by default**"
      ],
      "metadata": {
        "id": "Ax9wfA3kti7p"
      }
    },
    {
      "cell_type": "markdown",
      "source": [
        "Let's see what happens if we change the resulting array or not "
      ],
      "metadata": {
        "id": "bcwXp6Fltzgk"
      }
    },
    {
      "cell_type": "code",
      "source": [
        "a = numpy_arr[2, :11]\n",
        "a"
      ],
      "metadata": {
        "colab": {
          "base_uri": "https://localhost:8080/"
        },
        "id": "87q53jSLtQ3z",
        "outputId": "4dd3747f-0a9a-41ab-e851-28525a5ed0cc"
      },
      "execution_count": 27,
      "outputs": [
        {
          "output_type": "execute_result",
          "data": {
            "text/plain": [
              "array([2.  , 0.  , 3.  , 0.  , 2.  , 1.67, 4.  , 4.  , 4.  , 4.  , 2.33])"
            ]
          },
          "metadata": {},
          "execution_count": 27
        }
      ]
    },
    {
      "cell_type": "code",
      "source": [
        "b = np.sort(a)\n",
        "b"
      ],
      "metadata": {
        "colab": {
          "base_uri": "https://localhost:8080/"
        },
        "id": "nxXHwGxVuAg_",
        "outputId": "ee5fa3fa-6b72-45f3-aaad-9830455bb1fe"
      },
      "execution_count": 28,
      "outputs": [
        {
          "output_type": "execute_result",
          "data": {
            "text/plain": [
              "array([0.  , 0.  , 1.67, 2.  , 2.  , 2.33, 3.  , 4.  , 4.  , 4.  , 4.  ])"
            ]
          },
          "metadata": {},
          "execution_count": 28
        }
      ]
    },
    {
      "cell_type": "code",
      "source": [
        "b[2] = -100\n",
        "b"
      ],
      "metadata": {
        "colab": {
          "base_uri": "https://localhost:8080/"
        },
        "id": "x8xlgkEVuCur",
        "outputId": "64ede3f9-6a09-4aab-ee25-abe32f1de85b"
      },
      "execution_count": 29,
      "outputs": [
        {
          "output_type": "execute_result",
          "data": {
            "text/plain": [
              "array([   0.  ,    0.  , -100.  ,    2.  ,    2.  ,    2.33,    3.  ,\n",
              "          4.  ,    4.  ,    4.  ,    4.  ])"
            ]
          },
          "metadata": {},
          "execution_count": 29
        }
      ]
    },
    {
      "cell_type": "code",
      "source": [
        "a"
      ],
      "metadata": {
        "colab": {
          "base_uri": "https://localhost:8080/"
        },
        "id": "wGiHattXuF_V",
        "outputId": "e6513195-1b97-4e8e-cc59-5115bf7c8451"
      },
      "execution_count": 30,
      "outputs": [
        {
          "output_type": "execute_result",
          "data": {
            "text/plain": [
              "array([2.  , 0.  , 3.  , 0.  , 2.  , 1.67, 4.  , 4.  , 4.  , 4.  , 2.33])"
            ]
          },
          "metadata": {},
          "execution_count": 30
        }
      ]
    },
    {
      "cell_type": "markdown",
      "source": [
        "Notice that a did not change!\n",
        "\n",
        "**Lesson: `np.sort()` returns a copy**"
      ],
      "metadata": {
        "id": "pAP5nB2MuHq1"
      }
    },
    {
      "cell_type": "code",
      "source": [
        "a.sort()\n",
        "a"
      ],
      "metadata": {
        "colab": {
          "base_uri": "https://localhost:8080/"
        },
        "id": "JvvsTCkWuGjS",
        "outputId": "e706f43b-0e00-4706-852d-a5c08e88037f"
      },
      "execution_count": 31,
      "outputs": [
        {
          "output_type": "execute_result",
          "data": {
            "text/plain": [
              "array([0.  , 0.  , 1.67, 2.  , 2.  , 2.33, 3.  , 4.  , 4.  , 4.  , 4.  ])"
            ]
          },
          "metadata": {},
          "execution_count": 31
        }
      ]
    },
    {
      "cell_type": "code",
      "source": [
        "numpy_arr[2,:]"
      ],
      "metadata": {
        "colab": {
          "base_uri": "https://localhost:8080/"
        },
        "id": "__mOkc3luaTt",
        "outputId": "2ddf0535-e4aa-455c-91ba-83a1f603ef92"
      },
      "execution_count": 32,
      "outputs": [
        {
          "output_type": "execute_result",
          "data": {
            "text/plain": [
              "array([0.  , 0.  , 1.67, 2.  , 2.  , 2.33, 3.  , 4.  , 4.  , 4.  , 4.  ])"
            ]
          },
          "metadata": {},
          "execution_count": 32
        }
      ]
    },
    {
      "cell_type": "markdown",
      "source": [
        "However `arr.sort()` does modify the array inplace. BEWARE of this.\n",
        "\n",
        "**Lesson: arr.sort() method modifies the numpy array inplace, along with all it's views.**"
      ],
      "metadata": {
        "id": "v--arK97ug01"
      }
    },
    {
      "cell_type": "markdown",
      "source": [
        "Finally, one may want the indices to sort, instead of actually sorting. In that case you can use `np.argsort`"
      ],
      "metadata": {
        "id": "kea7CxYcuygj"
      }
    },
    {
      "cell_type": "code",
      "source": [
        "a = numpy_arr[1, :]\n",
        "a"
      ],
      "metadata": {
        "colab": {
          "base_uri": "https://localhost:8080/"
        },
        "id": "ajiVGWBkueeG",
        "outputId": "842bff01-132b-4819-ed71-3ea930aa3f01"
      },
      "execution_count": 34,
      "outputs": [
        {
          "output_type": "execute_result",
          "data": {
            "text/plain": [
              "array([ 1.  ,  0.  ,  4.  ,  0.  ,  4.  ,  2.67,  3.  ,  2.  ,  2.  ,\n",
              "        2.33, -0.33])"
            ]
          },
          "metadata": {},
          "execution_count": 34
        }
      ]
    },
    {
      "cell_type": "code",
      "source": [
        "np.argsort(a)"
      ],
      "metadata": {
        "colab": {
          "base_uri": "https://localhost:8080/"
        },
        "id": "zdGznoR9vBSA",
        "outputId": "1fd17240-7874-424e-8526-555a456fc5ab"
      },
      "execution_count": 35,
      "outputs": [
        {
          "output_type": "execute_result",
          "data": {
            "text/plain": [
              "array([10,  1,  3,  0,  7,  8,  9,  5,  6,  2,  4])"
            ]
          },
          "metadata": {},
          "execution_count": 35
        }
      ]
    },
    {
      "cell_type": "markdown",
      "source": [
        "Of course, getting those values in that order returns in the sorted array"
      ],
      "metadata": {
        "id": "lrjC6DK5vGKU"
      }
    },
    {
      "cell_type": "code",
      "source": [
        "a[np.argsort(a)]"
      ],
      "metadata": {
        "colab": {
          "base_uri": "https://localhost:8080/"
        },
        "id": "mePZo0wsvEq_",
        "outputId": "d1aaf55f-b9c8-42ae-9bac-2da8abc1428d"
      },
      "execution_count": 36,
      "outputs": [
        {
          "output_type": "execute_result",
          "data": {
            "text/plain": [
              "array([-0.33,  0.  ,  0.  ,  1.  ,  2.  ,  2.  ,  2.33,  2.67,  3.  ,\n",
              "        4.  ,  4.  ])"
            ]
          },
          "metadata": {},
          "execution_count": 36
        }
      ]
    },
    {
      "cell_type": "code",
      "source": [],
      "metadata": {
        "id": "g3hOzuDvvKZb"
      },
      "execution_count": null,
      "outputs": []
    },
    {
      "cell_type": "markdown",
      "source": [
        "## Searching NumPy Arrays"
      ],
      "metadata": {
        "id": "SQFN5Ymfvapv"
      }
    },
    {
      "cell_type": "markdown",
      "source": [
        "Actualy we have seen this already, but let's take it as a refresher. To search for an element in an array we normally use `indexers`. A way to create indexers are via the `where` statement"
      ],
      "metadata": {
        "id": "7taCRvfQvsBp"
      }
    },
    {
      "cell_type": "code",
      "source": [
        "a"
      ],
      "metadata": {
        "colab": {
          "base_uri": "https://localhost:8080/"
        },
        "id": "zxkevc2DvdJl",
        "outputId": "5523ac90-5116-4212-d12f-53c45019c177"
      },
      "execution_count": 37,
      "outputs": [
        {
          "output_type": "execute_result",
          "data": {
            "text/plain": [
              "array([ 1.  ,  0.  ,  4.  ,  0.  ,  4.  ,  2.67,  3.  ,  2.  ,  2.  ,\n",
              "        2.33, -0.33])"
            ]
          },
          "metadata": {},
          "execution_count": 37
        }
      ]
    },
    {
      "cell_type": "code",
      "source": [
        "index = np.where(a == 4)\n",
        "index"
      ],
      "metadata": {
        "colab": {
          "base_uri": "https://localhost:8080/"
        },
        "id": "o2DeYI_bv46m",
        "outputId": "cf9d7acc-b835-4460-ec1e-88006e878be2"
      },
      "execution_count": 38,
      "outputs": [
        {
          "output_type": "execute_result",
          "data": {
            "text/plain": [
              "(array([2, 4]),)"
            ]
          },
          "metadata": {},
          "execution_count": 38
        }
      ]
    },
    {
      "cell_type": "markdown",
      "source": [
        "This means that on index 2 and 4 (third and fifth position) we will have a 4, and indeed it is. To retrieve the values..."
      ],
      "metadata": {
        "id": "RvZNBXpnyaUB"
      }
    },
    {
      "cell_type": "code",
      "source": [
        "a[index]"
      ],
      "metadata": {
        "colab": {
          "base_uri": "https://localhost:8080/"
        },
        "id": "jcOEE_cNv9ss",
        "outputId": "5e4635ff-787c-4372-f5bb-569cf657b8fe"
      },
      "execution_count": 39,
      "outputs": [
        {
          "output_type": "execute_result",
          "data": {
            "text/plain": [
              "array([4., 4.])"
            ]
          },
          "metadata": {},
          "execution_count": 39
        }
      ]
    },
    {
      "cell_type": "markdown",
      "source": [
        "In more dimensions:"
      ],
      "metadata": {
        "id": "3hZmqw2Dykw4"
      }
    },
    {
      "cell_type": "code",
      "source": [
        "a = numpy_arr[2:5, :]\n",
        "a"
      ],
      "metadata": {
        "colab": {
          "base_uri": "https://localhost:8080/"
        },
        "id": "EXatwCG3yi5u",
        "outputId": "b94d17aa-7437-4d19-a867-819887627355"
      },
      "execution_count": 41,
      "outputs": [
        {
          "output_type": "execute_result",
          "data": {
            "text/plain": [
              "array([[0.  , 0.  , 1.67, 2.  , 2.  , 2.33, 3.  , 4.  , 4.  , 4.  , 4.  ],\n",
              "       [3.  , 0.  , 2.  , 0.  , 2.  , 1.33, 5.  , 4.  , 5.  , 4.67, 3.33],\n",
              "       [4.  , 0.  , 3.  , 1.  , 3.  , 2.33, 4.  , 4.  , 5.  , 4.33, 2.  ]])"
            ]
          },
          "metadata": {},
          "execution_count": 41
        }
      ]
    },
    {
      "cell_type": "code",
      "source": [
        "np.where(a < 4)"
      ],
      "metadata": {
        "colab": {
          "base_uri": "https://localhost:8080/"
        },
        "id": "1IixQBjOypSE",
        "outputId": "febbb10f-8797-41c2-a407-22c8b3ae5def"
      },
      "execution_count": 42,
      "outputs": [
        {
          "output_type": "execute_result",
          "data": {
            "text/plain": [
              "(array([0, 0, 0, 0, 0, 0, 0, 1, 1, 1, 1, 1, 1, 1, 2, 2, 2, 2, 2, 2]),\n",
              " array([ 0,  1,  2,  3,  4,  5,  6,  0,  1,  2,  3,  4,  5, 10,  1,  2,  3,\n",
              "         4,  5, 10]))"
            ]
          },
          "metadata": {},
          "execution_count": 42
        }
      ]
    },
    {
      "cell_type": "markdown",
      "source": [
        "Here it may look weird so let's explain the full structure of the indexer. On the first element of the tuple refers to the index on the first axis. Having 7 0s mean that 7 elements of the first row comply with the condition. The question is which ones?\n",
        "\n",
        "For that we go to the second tuple, that gives the indices. As an example the we can find the following element:\n",
        "\n",
        "```\n",
        "(1,10)\n",
        "```\n",
        "\n",
        "in our indexer tuple (align the arrays as columns and get the row). Indeed if we check:\n",
        "\n",
        "```\n",
        "a[1,10] = 3.33 < 4\n",
        "```"
      ],
      "metadata": {
        "id": "sZBYJcUpzZHx"
      }
    },
    {
      "cell_type": "code",
      "source": [
        "a[np.where(a < 4)]"
      ],
      "metadata": {
        "colab": {
          "base_uri": "https://localhost:8080/"
        },
        "id": "N_llQ4b7y9Aa",
        "outputId": "83ce2502-07dc-4772-bec5-48e56b1acc8e"
      },
      "execution_count": 43,
      "outputs": [
        {
          "output_type": "execute_result",
          "data": {
            "text/plain": [
              "array([0.  , 0.  , 1.67, 2.  , 2.  , 2.33, 3.  , 3.  , 0.  , 2.  , 0.  ,\n",
              "       2.  , 1.33, 3.33, 0.  , 3.  , 1.  , 3.  , 2.33, 2.  ])"
            ]
          },
          "metadata": {},
          "execution_count": 43
        }
      ]
    },
    {
      "cell_type": "markdown",
      "source": [
        "Evaluating the full indexer returns a 1D array of all elements that comply. But what if we want to keep the structure? Then we need to pass an element too fill"
      ],
      "metadata": {
        "id": "-Xk4iDAx0N76"
      }
    },
    {
      "cell_type": "code",
      "source": [
        "np.where(a < 4, a, -100)"
      ],
      "metadata": {
        "colab": {
          "base_uri": "https://localhost:8080/"
        },
        "id": "lSeZudokzEfZ",
        "outputId": "c0f7f3b7-7b69-4cc9-b70a-571e24866289"
      },
      "execution_count": 46,
      "outputs": [
        {
          "output_type": "execute_result",
          "data": {
            "text/plain": [
              "array([[   0.  ,    0.  ,    1.67,    2.  ,    2.  ,    2.33,    3.  ,\n",
              "        -100.  , -100.  , -100.  , -100.  ],\n",
              "       [   3.  ,    0.  ,    2.  ,    0.  ,    2.  ,    1.33, -100.  ,\n",
              "        -100.  , -100.  , -100.  ,    3.33],\n",
              "       [-100.  ,    0.  ,    3.  ,    1.  ,    3.  ,    2.33, -100.  ,\n",
              "        -100.  , -100.  , -100.  ,    2.  ]])"
            ]
          },
          "metadata": {},
          "execution_count": 46
        }
      ]
    },
    {
      "cell_type": "code",
      "source": [
        "a"
      ],
      "metadata": {
        "colab": {
          "base_uri": "https://localhost:8080/"
        },
        "id": "eI_ycu2l0dt6",
        "outputId": "1d85b3b1-b3c6-49e7-fb1c-021ac68cbf87"
      },
      "execution_count": 47,
      "outputs": [
        {
          "output_type": "execute_result",
          "data": {
            "text/plain": [
              "array([[0.  , 0.  , 1.67, 2.  , 2.  , 2.33, 3.  , 4.  , 4.  , 4.  , 4.  ],\n",
              "       [3.  , 0.  , 2.  , 0.  , 2.  , 1.33, 5.  , 4.  , 5.  , 4.67, 3.33],\n",
              "       [4.  , 0.  , 3.  , 1.  , 3.  , 2.33, 4.  , 4.  , 5.  , 4.33, 2.  ]])"
            ]
          },
          "metadata": {},
          "execution_count": 47
        }
      ]
    },
    {
      "cell_type": "markdown",
      "source": [
        "Notice that passing the broadcaster we got *a copy* swaping the elements that don't match a condition with a sentinel value "
      ],
      "metadata": {
        "id": "f31l-88l0rxg"
      }
    },
    {
      "cell_type": "markdown",
      "source": [
        "Note that, one can pass to the where statement any expression that evaluates to `True` or `False`"
      ],
      "metadata": {
        "id": "O0IfiI8g090o"
      }
    },
    {
      "cell_type": "code",
      "source": [
        "a = numpy_arr[4, :]\n",
        "a"
      ],
      "metadata": {
        "colab": {
          "base_uri": "https://localhost:8080/"
        },
        "id": "ww_36u5v0qYx",
        "outputId": "04e73070-c8ea-4df3-ed1b-008426f8bbe6"
      },
      "execution_count": 49,
      "outputs": [
        {
          "output_type": "execute_result",
          "data": {
            "text/plain": [
              "array([4.  , 0.  , 3.  , 1.  , 3.  , 2.33, 4.  , 4.  , 5.  , 4.33, 2.  ])"
            ]
          },
          "metadata": {},
          "execution_count": 49
        }
      ]
    },
    {
      "cell_type": "code",
      "source": [
        "np.where(a < 4)"
      ],
      "metadata": {
        "colab": {
          "base_uri": "https://localhost:8080/"
        },
        "id": "u2IFO3Z11Mca",
        "outputId": "3c20bab9-475b-4fda-9a3f-851cb0b5101b"
      },
      "execution_count": 50,
      "outputs": [
        {
          "output_type": "execute_result",
          "data": {
            "text/plain": [
              "(array([ 1,  2,  3,  4,  5, 10]),)"
            ]
          },
          "metadata": {},
          "execution_count": 50
        }
      ]
    },
    {
      "cell_type": "code",
      "source": [
        "def less4(x):\n",
        "  print(f'I got called to evaluate {x}')\n",
        "  return x < 4"
      ],
      "metadata": {
        "id": "j7uURvAh1Oms"
      },
      "execution_count": 51,
      "outputs": []
    },
    {
      "cell_type": "code",
      "source": [
        "np.where(less4(a))"
      ],
      "metadata": {
        "colab": {
          "base_uri": "https://localhost:8080/"
        },
        "id": "NPYI69U-1VVc",
        "outputId": "432c157d-94ba-4f04-bb36-b72648a2e625"
      },
      "execution_count": 52,
      "outputs": [
        {
          "output_type": "stream",
          "name": "stdout",
          "text": [
            "I got called to evaluate [4.   0.   3.   1.   3.   2.33 4.   4.   5.   4.33 2.  ]\n"
          ]
        },
        {
          "output_type": "execute_result",
          "data": {
            "text/plain": [
              "(array([ 1,  2,  3,  4,  5, 10]),)"
            ]
          },
          "metadata": {},
          "execution_count": 52
        }
      ]
    },
    {
      "cell_type": "markdown",
      "source": [
        "To end search, if we want to find the maximum of an array we can do so without sorting it (which is memory inefficient)"
      ],
      "metadata": {
        "id": "X7RAYTZx1veG"
      }
    },
    {
      "cell_type": "code",
      "source": [
        "a"
      ],
      "metadata": {
        "colab": {
          "base_uri": "https://localhost:8080/"
        },
        "id": "G16RuMDl1gGc",
        "outputId": "a64424a4-4a51-4635-d952-665b7b65e151"
      },
      "execution_count": 54,
      "outputs": [
        {
          "output_type": "execute_result",
          "data": {
            "text/plain": [
              "array([4.  , 0.  , 3.  , 1.  , 3.  , 2.33, 4.  , 4.  , 5.  , 4.33, 2.  ])"
            ]
          },
          "metadata": {},
          "execution_count": 54
        }
      ]
    },
    {
      "cell_type": "code",
      "source": [
        "np.argmax(a)"
      ],
      "metadata": {
        "colab": {
          "base_uri": "https://localhost:8080/"
        },
        "id": "fYIaoHli2RgO",
        "outputId": "9d32fd90-73f0-4220-f064-09cbd7760722"
      },
      "execution_count": 55,
      "outputs": [
        {
          "output_type": "execute_result",
          "data": {
            "text/plain": [
              "8"
            ]
          },
          "metadata": {},
          "execution_count": 55
        }
      ]
    },
    {
      "cell_type": "code",
      "source": [
        "a[np.argmax(a)]"
      ],
      "metadata": {
        "colab": {
          "base_uri": "https://localhost:8080/"
        },
        "id": "iZYHizd22TgI",
        "outputId": "ac40b748-ed78-43a5-c8dd-249efb7b76fb"
      },
      "execution_count": 56,
      "outputs": [
        {
          "output_type": "execute_result",
          "data": {
            "text/plain": [
              "5.0"
            ]
          },
          "metadata": {},
          "execution_count": 56
        }
      ]
    },
    {
      "cell_type": "markdown",
      "source": [
        "Indeed, 5 is the maximum."
      ],
      "metadata": {
        "id": "blgGM3vA2XWu"
      }
    },
    {
      "cell_type": "code",
      "source": [],
      "metadata": {
        "id": "4M4SMIQ52WWO"
      },
      "execution_count": null,
      "outputs": []
    }
  ]
}