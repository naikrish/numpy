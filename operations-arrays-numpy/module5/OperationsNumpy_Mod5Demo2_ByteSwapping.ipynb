{
  "nbformat": 4,
  "nbformat_minor": 0,
  "metadata": {
    "colab": {
      "provenance": [],
      "authorship_tag": "ABX9TyOD7n9sCT/R1XX6VgbXsWol",
      "include_colab_link": true
    },
    "kernelspec": {
      "name": "python3",
      "display_name": "Python 3"
    },
    "language_info": {
      "name": "python"
    }
  },
  "cells": [
    {
      "cell_type": "markdown",
      "metadata": {
        "id": "view-in-github",
        "colab_type": "text"
      },
      "source": [
        "<a href=\"https://colab.research.google.com/github/axel-sirota/operations-arrays-numpy/blob/main/module5/OperationsNumpy_Mod5Demo2_ByteSwapping.ipynb\" target=\"_parent\"><img src=\"https://colab.research.google.com/assets/colab-badge.svg\" alt=\"Open In Colab\"/></a>"
      ]
    },
    {
      "cell_type": "markdown",
      "source": [
        "# Byte Representations on Numpy"
      ],
      "metadata": {
        "id": "kJ1k7bOkICai"
      }
    },
    {
      "cell_type": "markdown",
      "source": [
        "Sometimes you are exchanging code between ittle endian and big endian architectures. In such a case, let's recall, in little endian machines, last byte of binary representation of the multibyte data-type is stored first. On the other hand, in big endian machines, first byte of binary representation of the multibyte data-type is stored first. For example x with a value of `0x01234567` would be saved as:"
      ],
      "metadata": {
        "id": "-k9JG7Mwuhqs"
      }
    },
    {
      "cell_type": "markdown",
      "source": [
        "![endian.jpg](data:image/jpeg;base64,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)"
      ],
      "metadata": {
        "id": "AY6xkM8Su1tW"
      }
    },
    {
      "cell_type": "markdown",
      "source": [
        "**Do we care as programmers??** \n",
        "\n",
        "Usually not, except when we are dealing with code we may suspect will need to be compiled in different architectures. Let's see how to swap from one to the other"
      ],
      "metadata": {
        "id": "89teQuyUvHfV"
      }
    },
    {
      "cell_type": "code",
      "source": [
        "import numpy as np\n",
        "\n",
        "arr = np.array([1, 256, 8755], dtype=np.int16)\n",
        "print(\"arr is:\")\n",
        "print(arr)"
      ],
      "metadata": {
        "id": "4M4SMIQ52WWO",
        "colab": {
          "base_uri": "https://localhost:8080/"
        },
        "outputId": "7a3ebb38-86f7-46ce-a437-cb47c9cdee3c"
      },
      "execution_count": 1,
      "outputs": [
        {
          "output_type": "stream",
          "name": "stdout",
          "text": [
            "arr is:\n",
            "[   1  256 8755]\n"
          ]
        }
      ]
    },
    {
      "cell_type": "code",
      "source": [
        "#displaying the data in memory in \n",
        "#hexadecimal form\n",
        "print(\"\\nData in memory in hexadecimal form\")\n",
        "print(list(map(hex,arr)))\n"
      ],
      "metadata": {
        "colab": {
          "base_uri": "https://localhost:8080/"
        },
        "id": "kn_N7mQ2vZtu",
        "outputId": "b5157bb1-c0e3-433a-af3f-c320f0ed6d3f"
      },
      "execution_count": 3,
      "outputs": [
        {
          "output_type": "stream",
          "name": "stdout",
          "text": [
            "\n",
            "Data in memory in hexadecimal form\n",
            "['0x1', '0x100', '0x2233']\n"
          ]
        }
      ]
    },
    {
      "cell_type": "markdown",
      "source": [
        "Let's swap. This operation is not inplace by default"
      ],
      "metadata": {
        "id": "p7W5HL-EvoGx"
      }
    },
    {
      "cell_type": "code",
      "source": [
        "\n",
        "#using byteswap() function to toggle between \n",
        "#low-endian and big-endian data representation\n",
        "arr.byteswap(inplace=True)"
      ],
      "metadata": {
        "colab": {
          "base_uri": "https://localhost:8080/"
        },
        "id": "2cHgU6jTvZwZ",
        "outputId": "23132e6b-6aff-47f5-8a65-5fade7bff57f"
      },
      "execution_count": 4,
      "outputs": [
        {
          "output_type": "execute_result",
          "data": {
            "text/plain": [
              "array([  256,     1, 13090], dtype=int16)"
            ]
          },
          "metadata": {},
          "execution_count": 4
        }
      ]
    },
    {
      "cell_type": "markdown",
      "source": [
        "Notice that we swapped on each element. Make sure you understand the swap from 8755 into 13090"
      ],
      "metadata": {
        "id": "7qSYOkj2vzbn"
      }
    },
    {
      "cell_type": "code",
      "source": [
        "\n",
        "#after applying byteswap() function\n",
        "print(\"\\nAfter applying byteswap() function, Arr is:\")\n",
        "print(arr)"
      ],
      "metadata": {
        "colab": {
          "base_uri": "https://localhost:8080/"
        },
        "id": "KLCasQTHvZzK",
        "outputId": "2f4783d8-eaf8-47b8-8d1c-6078b1d5bc18"
      },
      "execution_count": 6,
      "outputs": [
        {
          "output_type": "stream",
          "name": "stdout",
          "text": [
            "\n",
            "After applying byteswap() function, Arr is:\n",
            "[  256     1 13090]\n"
          ]
        }
      ]
    },
    {
      "cell_type": "markdown",
      "source": [
        "Let's see the memory representation to verify it swapped corrrectly\n"
      ],
      "metadata": {
        "id": "SK0NhGcQwDnA"
      }
    },
    {
      "cell_type": "code",
      "source": [
        "print(\"\\nData in memory in hexadecimal form\")\n",
        "print(list(map(hex,arr)))"
      ],
      "metadata": {
        "colab": {
          "base_uri": "https://localhost:8080/"
        },
        "id": "W4nsy2nCvZ2B",
        "outputId": "6e9af3a7-60fc-4720-aff3-ff84579de4d0"
      },
      "execution_count": 7,
      "outputs": [
        {
          "output_type": "stream",
          "name": "stdout",
          "text": [
            "\n",
            "Data in memory in hexadecimal form\n",
            "['0x100', '0x1', '0x3322']\n"
          ]
        }
      ]
    },
    {
      "cell_type": "markdown",
      "source": [
        "Success!!"
      ],
      "metadata": {
        "id": "Ls54f29lwPTN"
      }
    },
    {
      "cell_type": "markdown",
      "source": [
        "A final note is that string byte arrays are not swapped"
      ],
      "metadata": {
        "id": "-rN08p3WwUf-"
      }
    },
    {
      "cell_type": "code",
      "source": [
        "A = np.array([b'ceg', b'fac'])\n",
        "\n",
        "A.byteswap()"
      ],
      "metadata": {
        "colab": {
          "base_uri": "https://localhost:8080/"
        },
        "id": "mYPniNCsuZG_",
        "outputId": "4ce0ba21-871e-4d3d-af7a-190c5241c612"
      },
      "execution_count": 8,
      "outputs": [
        {
          "output_type": "execute_result",
          "data": {
            "text/plain": [
              "array([b'ceg', b'fac'], dtype='|S3')"
            ]
          },
          "metadata": {},
          "execution_count": 8
        }
      ]
    },
    {
      "cell_type": "markdown",
      "source": [
        "Notice it is the same!"
      ],
      "metadata": {
        "id": "tX7U0uL5wZvP"
      }
    },
    {
      "cell_type": "code",
      "source": [],
      "metadata": {
        "id": "WZ3bx7SIwYgp"
      },
      "execution_count": null,
      "outputs": []
    }
  ]
}