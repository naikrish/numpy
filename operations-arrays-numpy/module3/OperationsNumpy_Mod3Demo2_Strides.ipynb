{
  "nbformat": 4,
  "nbformat_minor": 0,
  "metadata": {
    "colab": {
      "provenance": [],
      "authorship_tag": "ABX9TyMNyptqBfpQ0hWsGYrGEnZP",
      "include_colab_link": true
    },
    "kernelspec": {
      "name": "python3",
      "display_name": "Python 3"
    },
    "language_info": {
      "name": "python"
    }
  },
  "cells": [
    {
      "cell_type": "markdown",
      "metadata": {
        "id": "view-in-github",
        "colab_type": "text"
      },
      "source": [
        "<a href=\"https://colab.research.google.com/github/axel-sirota/operations-arrays-numpy/blob/main/module3/OperationsNumpy_Mod3Demo2_Strides.ipynb\" target=\"_parent\"><img src=\"https://colab.research.google.com/assets/colab-badge.svg\" alt=\"Open In Colab\"/></a>"
      ]
    },
    {
      "cell_type": "markdown",
      "source": [
        "# Strides on Numpy"
      ],
      "metadata": {
        "id": "kJ1k7bOkICai"
      }
    },
    {
      "cell_type": "markdown",
      "source": [
        "## Prep"
      ],
      "metadata": {
        "id": "W7lC_7pNeTml"
      }
    },
    {
      "cell_type": "markdown",
      "source": [
        "Let's recall how to access data in lists. For that we will leverage the dtaset for this course, whch is the results of an actual beheivoural experiment conducted by Universidad de la Matanza (UNLaM)"
      ],
      "metadata": {
        "id": "n5GNF-_2IFhN"
      }
    },
    {
      "cell_type": "code",
      "source": [
        "%%writefile get_data.sh\n",
        "if [ ! -f dataset.csv ]; then\n",
        "  wget -O dataset.csv https://www.dropbox.com/s/9t5lc04vxwvjvo6/dataset.csv?dl=0\n",
        "fi"
      ],
      "metadata": {
        "colab": {
          "base_uri": "https://localhost:8080/"
        },
        "id": "NzUB82EcIWB8",
        "outputId": "d069bfc3-fccc-472b-e72b-6cfb55c13dc1"
      },
      "execution_count": 1,
      "outputs": [
        {
          "output_type": "stream",
          "name": "stdout",
          "text": [
            "Writing get_data.sh\n"
          ]
        }
      ]
    },
    {
      "cell_type": "code",
      "source": [
        "!bash get_data.sh\n"
      ],
      "metadata": {
        "id": "hh-cUVYvIgdK",
        "colab": {
          "base_uri": "https://localhost:8080/"
        },
        "outputId": "6f27d8bf-adee-4da4-dd3e-2a29d9b2fee7"
      },
      "execution_count": 2,
      "outputs": [
        {
          "output_type": "stream",
          "name": "stdout",
          "text": [
            "--2023-02-20 21:07:31--  https://www.dropbox.com/s/9t5lc04vxwvjvo6/dataset.csv?dl=0\n",
            "Resolving www.dropbox.com (www.dropbox.com)... 162.125.8.18, 2620:100:601b:18::a27d:812\n",
            "Connecting to www.dropbox.com (www.dropbox.com)|162.125.8.18|:443... connected.\n",
            "HTTP request sent, awaiting response... 302 Found\n",
            "Location: /s/raw/9t5lc04vxwvjvo6/dataset.csv [following]\n",
            "--2023-02-20 21:07:32--  https://www.dropbox.com/s/raw/9t5lc04vxwvjvo6/dataset.csv\n",
            "Reusing existing connection to www.dropbox.com:443.\n",
            "HTTP request sent, awaiting response... 302 Found\n",
            "Location: https://ucccdfe8bf589a18afc612d830e4.dl.dropboxusercontent.com/cd/0/inline/B266zQWOA9HwFzSZwsmnaius5zuEMEeYKuYKXf5zQQWa3J2xs4GFRSWHmDzF_BThRkfhEjV9iXtvJtlsQFU0q5wlozaQ-Sf5L-6jIa_PtDgGksJPMLc8a5o0b9crNeTkmyqzF4ywqdcDK1BvI4pvmOATdnNU9HJAL2GDvUUcc4jzpA/file# [following]\n",
            "--2023-02-20 21:07:32--  https://ucccdfe8bf589a18afc612d830e4.dl.dropboxusercontent.com/cd/0/inline/B266zQWOA9HwFzSZwsmnaius5zuEMEeYKuYKXf5zQQWa3J2xs4GFRSWHmDzF_BThRkfhEjV9iXtvJtlsQFU0q5wlozaQ-Sf5L-6jIa_PtDgGksJPMLc8a5o0b9crNeTkmyqzF4ywqdcDK1BvI4pvmOATdnNU9HJAL2GDvUUcc4jzpA/file\n",
            "Resolving ucccdfe8bf589a18afc612d830e4.dl.dropboxusercontent.com (ucccdfe8bf589a18afc612d830e4.dl.dropboxusercontent.com)... 162.125.65.15, 2620:100:6018:15::a27d:30f\n",
            "Connecting to ucccdfe8bf589a18afc612d830e4.dl.dropboxusercontent.com (ucccdfe8bf589a18afc612d830e4.dl.dropboxusercontent.com)|162.125.65.15|:443... connected.\n",
            "HTTP request sent, awaiting response... 200 OK\n",
            "Length: 5847 (5.7K) [text/plain]\n",
            "Saving to: ‘dataset.csv’\n",
            "\n",
            "dataset.csv         100%[===================>]   5.71K  --.-KB/s    in 0s      \n",
            "\n",
            "2023-02-20 21:07:33 (603 MB/s) - ‘dataset.csv’ saved [5847/5847]\n",
            "\n"
          ]
        }
      ]
    },
    {
      "cell_type": "code",
      "execution_count": 3,
      "metadata": {
        "id": "PsZMIKkLHh-4"
      },
      "outputs": [],
      "source": [
        "import numpy as np"
      ]
    },
    {
      "cell_type": "code",
      "source": [
        "numpy_arr = np.genfromtxt('dataset.csv', delimiter=',')"
      ],
      "metadata": {
        "id": "RsLI_E9tpDWd"
      },
      "execution_count": 4,
      "outputs": []
    },
    {
      "cell_type": "markdown",
      "source": [
        "## Strides"
      ],
      "metadata": {
        "id": "94H2OqCUpjjX"
      }
    },
    {
      "cell_type": "markdown",
      "source": [
        "Sometimes you want to fetch values \"every X times\". for that we can use strides"
      ],
      "metadata": {
        "id": "XGKXUe3Apl6I"
      }
    },
    {
      "cell_type": "code",
      "source": [
        "# Fetch every two rows, the second column\n",
        "numpy_arr[::2,1]"
      ],
      "metadata": {
        "colab": {
          "base_uri": "https://localhost:8080/"
        },
        "id": "r2NSbSngpksV",
        "outputId": "159b3d7c-5e87-4add-be1b-6428f40ffe6d"
      },
      "execution_count": 7,
      "outputs": [
        {
          "output_type": "execute_result",
          "data": {
            "text/plain": [
              "array([0., 0., 0., 0., 0., 0., 0., 0., 0., 0., 0., 0., 0., 0., 0., 0., 0.,\n",
              "       1., 1., 1., 1., 1., 1., 1., 1., 1., 1., 1., 1., 1., 1., 1., 1., 1.,\n",
              "       1., 1., 1., 1., 1., 1., 1., 1., 1., 1., 1., 1., 1., 1., 1., 1., 1.,\n",
              "       1., 1., 1., 1., 1., 1., 1., 1., 1., 1., 1., 1., 1., 1., 2., 2., 2.,\n",
              "       2., 2., 2., 2., 2., 2., 2., 2., 2., 2., 2., 2., 2., 2., 2., 2., 2.,\n",
              "       2., 2., 2., 2., 2., 2., 2., 2., 2., 2., 2., 2., 2., 2., 2.])"
            ]
          },
          "metadata": {},
          "execution_count": 7
        }
      ]
    },
    {
      "cell_type": "markdown",
      "source": [
        "Let's check indeed the amount of elements is OK"
      ],
      "metadata": {
        "id": "SCaetRYuqT9N"
      }
    },
    {
      "cell_type": "code",
      "source": [
        "print(f'The amount of elements in the second column is: {len(numpy_arr[:,1])}')\n",
        "print(f'The amount of elements in the second column every two is: {len(numpy_arr[::2,1])}')"
      ],
      "metadata": {
        "colab": {
          "base_uri": "https://localhost:8080/"
        },
        "id": "eXYK-k_Qp7bA",
        "outputId": "8b68dd8d-8b50-47f2-b7d6-ca3bfa654158"
      },
      "execution_count": 10,
      "outputs": [
        {
          "output_type": "stream",
          "name": "stdout",
          "text": [
            "The amount of elements in the second column is: 199\n",
            "The amount of elements in the second column every two is: 100\n"
          ]
        }
      ]
    },
    {
      "cell_type": "markdown",
      "source": [
        "Effectively we did every two. In general the pattern is the following, **for each dimension**"
      ],
      "metadata": {
        "id": "Ez-Mb8Z7qpO_"
      }
    },
    {
      "cell_type": "code",
      "source": [
        "numpy_arr[\n",
        "    2    # Start value in the axis 0. This is the third value\n",
        "    :\n",
        "    54   # End value in the axis 0. This is the fifty-third value\n",
        "    :\n",
        "    3    # Stride. This is every 3 elements\n",
        "    ,    # End of slice for axis 0 \n",
        "    1    # In axis 1 we get just the second column\n",
        "]"
      ],
      "metadata": {
        "colab": {
          "base_uri": "https://localhost:8080/"
        },
        "id": "J-LqslY0qfMw",
        "outputId": "dd483cbd-a3de-42ff-85e9-ef1354ff7a8a"
      },
      "execution_count": 12,
      "outputs": [
        {
          "output_type": "execute_result",
          "data": {
            "text/plain": [
              "array([0., 0., 0., 0., 0., 0., 0., 0., 0., 0., 0., 1., 1., 1., 1., 1., 1.,\n",
              "       1.])"
            ]
          },
          "metadata": {},
          "execution_count": 12
        }
      ]
    },
    {
      "cell_type": "markdown",
      "source": [
        "However we can do this in every dimension, for example we can get every two columns, every three rows"
      ],
      "metadata": {
        "id": "4FI9ZJ-lrLcT"
      }
    },
    {
      "cell_type": "code",
      "source": [
        "arr = numpy_arr[\n",
        "    :\n",
        "    :\n",
        "    3\n",
        "    ,\n",
        "    :\n",
        "    :\n",
        "    2\n",
        "]\n"
      ],
      "metadata": {
        "id": "0VOt0tbcq5Oq"
      },
      "execution_count": 14,
      "outputs": []
    },
    {
      "cell_type": "code",
      "source": [
        "print(f'The shape of the new array is {arr.shape}')"
      ],
      "metadata": {
        "colab": {
          "base_uri": "https://localhost:8080/"
        },
        "id": "UgUq8U9frWku",
        "outputId": "203bd67b-a347-4f54-fc8a-7b0f5d7f1ce3"
      },
      "execution_count": 15,
      "outputs": [
        {
          "output_type": "stream",
          "name": "stdout",
          "text": [
            "The shape of the new array is (67, 6)\n"
          ]
        }
      ]
    },
    {
      "cell_type": "markdown",
      "source": [
        "Notice that we get half the columns and a third of the rows, so we did OK.\n",
        "\n"
      ],
      "metadata": {
        "id": "nTnFKUQIritN"
      }
    },
    {
      "cell_type": "markdown",
      "source": [
        "## Dimensional indexing"
      ],
      "metadata": {
        "id": "OvpyVOc7t0Jc"
      }
    },
    {
      "cell_type": "markdown",
      "source": [
        "Notice we can do this in any dimenision, it is not restricted to matrix like data. For this let's reshape our dataset and slice it!"
      ],
      "metadata": {
        "id": "isGjYzkgt1_L"
      }
    },
    {
      "cell_type": "code",
      "source": [
        "numpy_arr[:100,:100].shape"
      ],
      "metadata": {
        "colab": {
          "base_uri": "https://localhost:8080/"
        },
        "id": "ZGQoHnwEr6D-",
        "outputId": "407dbfff-5d60-4bf4-c455-4b218637fed2"
      },
      "execution_count": 29,
      "outputs": [
        {
          "output_type": "execute_result",
          "data": {
            "text/plain": [
              "(100, 11)"
            ]
          },
          "metadata": {},
          "execution_count": 29
        }
      ]
    },
    {
      "cell_type": "code",
      "source": [
        "dim_view = numpy_arr[:100,:100].reshape(5,5,4,11)\n",
        "dim_view"
      ],
      "metadata": {
        "colab": {
          "base_uri": "https://localhost:8080/"
        },
        "id": "oehMS_O6uD7Y",
        "outputId": "31d4ea8b-8bd9-4a8e-c551-73f989a08f04"
      },
      "execution_count": 30,
      "outputs": [
        {
          "output_type": "execute_result",
          "data": {
            "text/plain": [
              "array([[[[ 0.  ,  0.  ,  2.  , ...,  3.  ,  2.67,  1.67],\n",
              "         [ 1.  ,  0.  ,  4.  , ...,  2.  ,  2.33, -0.33],\n",
              "         [ 2.  ,  0.  ,  3.  , ...,  4.  ,  4.  ,  2.33],\n",
              "         [ 3.  ,  0.  ,  2.  , ...,  5.  ,  4.67,  3.33]],\n",
              "\n",
              "        [[ 4.  ,  0.  ,  3.  , ...,  5.  ,  4.33,  2.  ],\n",
              "         [ 5.  ,  0.  ,  2.  , ...,  4.  ,  4.  ,  2.67],\n",
              "         [ 6.  ,  0.  ,  3.  , ...,  2.  ,  2.33,  0.  ],\n",
              "         [ 7.  ,  0.  ,  4.  , ...,  3.  ,  3.33,  1.67]],\n",
              "\n",
              "        [[ 8.  ,  0.  ,  2.  , ...,  3.  ,  3.  ,  1.67],\n",
              "         [ 9.  ,  0.  ,  3.  , ...,  5.  ,  4.  ,  2.  ],\n",
              "         [10.  ,  0.  ,  3.  , ...,  5.  ,  4.33,  3.  ],\n",
              "         [11.  ,  0.  ,  2.  , ...,  2.  ,  2.67,  1.67]],\n",
              "\n",
              "        [[12.  ,  0.  ,  3.  , ...,  4.  ,  3.33,  1.67],\n",
              "         [13.  ,  0.  ,  2.  , ...,  3.  ,  2.  ,  0.67],\n",
              "         [14.  ,  0.  ,  1.  , ...,  2.  ,  2.33,  1.33],\n",
              "         [15.  ,  0.  ,  3.  , ...,  5.  ,  4.67,  3.33]],\n",
              "\n",
              "        [[16.  ,  0.  ,  4.  , ...,  5.  ,  4.67,  3.  ],\n",
              "         [17.  ,  0.  ,  2.  , ...,  3.  ,  3.  ,  2.  ],\n",
              "         [18.  ,  0.  ,  4.  , ...,  5.  ,  3.67,  1.33],\n",
              "         [19.  ,  0.  ,  4.  , ...,  3.  ,  3.33,  1.33]]],\n",
              "\n",
              "\n",
              "       [[[20.  ,  0.  ,  4.  , ...,  4.  ,  4.  ,  2.  ],\n",
              "         [21.  ,  0.  ,  4.  , ...,  5.  ,  4.  ,  1.  ],\n",
              "         [22.  ,  0.  ,  3.  , ...,  4.  ,  3.67,  1.67],\n",
              "         [23.  ,  0.  ,  4.  , ...,  5.  ,  3.33,  1.33]],\n",
              "\n",
              "        [[24.  ,  0.  ,  3.  , ...,  3.  ,  2.67,  1.  ],\n",
              "         [25.  ,  0.  ,  4.  , ...,  5.  ,  4.67,  2.33],\n",
              "         [26.  ,  0.  ,  5.  , ...,  2.  ,  3.  ,  0.67],\n",
              "         [27.  ,  0.  ,  2.  , ...,  2.  ,  3.  ,  2.  ]],\n",
              "\n",
              "        [[28.  ,  0.  ,   nan, ...,   nan,   nan,   nan],\n",
              "         [29.  ,  0.  ,   nan, ...,   nan,   nan,   nan],\n",
              "         [30.  ,  0.  ,   nan, ...,   nan,   nan,   nan],\n",
              "         [31.  ,  0.  ,   nan, ...,   nan,   nan,   nan]],\n",
              "\n",
              "        [[32.  ,  0.  ,   nan, ...,   nan,   nan,   nan],\n",
              "         [33.  ,  1.  ,  4.  , ...,  4.  ,  3.33,  1.  ],\n",
              "         [34.  ,  1.  ,  4.  , ...,  1.  ,  2.  , -0.67],\n",
              "         [35.  ,  1.  ,  4.  , ...,  3.  ,  3.33,  0.67]],\n",
              "\n",
              "        [[36.  ,  1.  ,  2.  , ...,  2.  ,  2.67,  1.  ],\n",
              "         [37.  ,  1.  ,  3.  , ...,  3.  ,  3.67,  0.67],\n",
              "         [38.  ,  1.  ,  4.  , ...,  3.  ,  3.  ,  0.67],\n",
              "         [39.  ,  1.  ,  3.  , ...,  2.  ,  2.67,  0.67]]],\n",
              "\n",
              "\n",
              "       [[[40.  ,  1.  ,  3.  , ...,  1.  ,  2.33,  0.67],\n",
              "         [41.  ,  1.  ,  4.  , ...,  4.  ,  3.  ,  1.  ],\n",
              "         [42.  ,  1.  ,  3.  , ...,  2.  ,  2.33,  0.67],\n",
              "         [43.  ,  1.  ,  4.  , ...,  1.  ,  3.  ,  0.  ]],\n",
              "\n",
              "        [[44.  ,  1.  ,  2.  , ...,  1.  ,  2.33,  0.67],\n",
              "         [45.  ,  1.  ,  1.  , ...,  2.  ,  2.  ,  0.67],\n",
              "         [46.  ,  1.  ,  5.  , ...,  4.  ,  4.67,  1.  ],\n",
              "         [47.  ,  1.  ,  5.  , ...,  2.  ,  2.67, -0.67]],\n",
              "\n",
              "        [[48.  ,  1.  ,  4.  , ...,  4.  ,  3.  ,  0.67],\n",
              "         [49.  ,  1.  ,  5.  , ...,  3.  ,  3.33,  0.  ],\n",
              "         [50.  ,  1.  ,  5.  , ...,  3.  ,  2.  , -0.33],\n",
              "         [51.  ,  1.  ,  3.  , ...,  1.  ,  3.  ,  0.33]],\n",
              "\n",
              "        [[52.  ,  1.  ,  3.  , ...,  1.  ,  2.33,  0.  ],\n",
              "         [53.  ,  1.  ,  4.  , ...,  3.  ,  4.33,  0.33],\n",
              "         [54.  ,  1.  ,  3.  , ...,  2.  ,  2.  ,  0.33],\n",
              "         [55.  ,  1.  ,  3.  , ...,  2.  ,  2.33,  0.33]],\n",
              "\n",
              "        [[56.  ,  1.  ,  4.  , ...,  4.  ,  3.33,  1.33],\n",
              "         [57.  ,  1.  ,  3.  , ...,  4.  ,  2.67,  1.  ],\n",
              "         [58.  ,  1.  ,  3.  , ...,  2.  ,  2.  ,  0.33],\n",
              "         [59.  ,  1.  ,  4.  , ...,  4.  ,  4.  ,  1.33]]],\n",
              "\n",
              "\n",
              "       [[[60.  ,  1.  ,  4.  , ...,  4.  ,  3.33,  1.33],\n",
              "         [61.  ,  1.  ,  3.  , ...,  3.  ,  3.33,  0.67],\n",
              "         [62.  ,  1.  ,  4.  , ...,  3.  ,  3.33,  0.  ],\n",
              "         [63.  ,  1.  ,  5.  , ...,  4.  ,  3.  ,  0.67]],\n",
              "\n",
              "        [[64.  ,  1.  ,  4.  , ...,  4.  ,  3.33,  0.67],\n",
              "         [65.  ,  1.  ,  2.  , ...,  4.  ,  4.33,  1.33],\n",
              "         [66.  ,  1.  ,  3.  , ...,  2.  ,  2.33, -0.33],\n",
              "         [67.  ,  1.  ,  3.  , ...,  3.  ,  3.  ,  1.  ]],\n",
              "\n",
              "        [[68.  ,  1.  ,  3.  , ...,  4.  ,  3.33,  0.33],\n",
              "         [69.  ,  1.  ,  2.  , ...,  3.  ,  2.67,  0.67],\n",
              "         [70.  ,  1.  ,  2.  , ...,  3.  ,  2.33,  0.  ],\n",
              "         [71.  ,  1.  ,  4.  , ...,  3.  ,  3.33,  1.  ]],\n",
              "\n",
              "        [[72.  ,  1.  ,  2.  , ...,  4.  ,  3.33,  1.33],\n",
              "         [73.  ,  1.  ,  3.  , ...,  2.  ,  2.67,  0.33],\n",
              "         [74.  ,  1.  ,  3.  , ...,  4.  ,  3.67,  1.  ],\n",
              "         [75.  ,  1.  ,  4.  , ...,  3.  ,  2.67,  0.33]],\n",
              "\n",
              "        [[76.  ,  1.  ,  4.  , ...,  4.  ,  4.  ,  0.  ],\n",
              "         [77.  ,  1.  ,  3.  , ...,  2.  ,  2.33,  0.33],\n",
              "         [78.  ,  1.  ,  3.  , ...,  3.  ,  3.  ,  1.  ],\n",
              "         [79.  ,  1.  ,  2.  , ...,  2.  ,  2.67,  1.  ]]],\n",
              "\n",
              "\n",
              "       [[[80.  ,  1.  ,  4.  , ...,  3.  ,  2.67, -0.33],\n",
              "         [81.  ,  1.  ,  4.  , ...,  4.  ,  4.  ,  1.33],\n",
              "         [82.  ,  1.  ,  3.  , ...,  3.  ,  3.33,  0.  ],\n",
              "         [83.  ,  1.  ,  3.  , ...,  3.  ,  3.  ,  1.  ]],\n",
              "\n",
              "        [[84.  ,  1.  ,  3.  , ...,  1.  ,  2.  ,  0.33],\n",
              "         [85.  ,  1.  ,  3.  , ...,  4.  ,  3.67,  1.67],\n",
              "         [86.  ,  1.  ,  4.  , ...,  2.  ,  2.67,  0.33],\n",
              "         [87.  ,  1.  ,  2.  , ...,  2.  ,  2.67,  1.  ]],\n",
              "\n",
              "        [[88.  ,  1.  ,  2.  , ...,  4.  ,  3.  ,  1.33],\n",
              "         [89.  ,  1.  ,  3.  , ...,  2.  ,  2.  ,  0.  ],\n",
              "         [90.  ,  1.  ,  3.  , ...,  3.  ,  2.67,  0.33],\n",
              "         [91.  ,  1.  ,  5.  , ...,  2.  ,  2.33,  0.  ]],\n",
              "\n",
              "        [[92.  ,  1.  ,  3.  , ...,  1.  ,  1.67, -0.33],\n",
              "         [93.  ,  1.  ,  4.  , ...,  1.  ,  2.33,  0.33],\n",
              "         [94.  ,  1.  ,  3.  , ...,  3.  ,  3.  ,  0.  ],\n",
              "         [95.  ,  1.  ,  4.  , ...,  2.  ,  3.  ,  0.33]],\n",
              "\n",
              "        [[96.  ,  1.  ,  2.  , ...,  3.  ,  3.  ,  1.33],\n",
              "         [97.  ,  1.  ,  4.  , ...,  3.  ,  2.33,  0.33],\n",
              "         [98.  ,  1.  ,  4.  , ...,  4.  ,  3.67,  1.33],\n",
              "         [99.  ,  1.  ,  4.  , ...,  4.  ,  3.33,  1.  ]]]])"
            ]
          },
          "metadata": {},
          "execution_count": 30
        }
      ]
    },
    {
      "cell_type": "code",
      "source": [
        "dim_view[:,:,2:4:2, 10]  # What is this doing? Stop the video and think about it!"
      ],
      "metadata": {
        "colab": {
          "base_uri": "https://localhost:8080/"
        },
        "id": "T9dsIeHvudv9",
        "outputId": "29ff1a03-0f94-41b4-c08e-70b119174a9f"
      },
      "execution_count": 33,
      "outputs": [
        {
          "output_type": "execute_result",
          "data": {
            "text/plain": [
              "array([[[ 2.33],\n",
              "        [ 0.  ],\n",
              "        [ 3.  ],\n",
              "        [ 1.33],\n",
              "        [ 1.33]],\n",
              "\n",
              "       [[ 1.67],\n",
              "        [ 0.67],\n",
              "        [  nan],\n",
              "        [-0.67],\n",
              "        [ 0.67]],\n",
              "\n",
              "       [[ 0.67],\n",
              "        [ 1.  ],\n",
              "        [-0.33],\n",
              "        [ 0.33],\n",
              "        [ 0.33]],\n",
              "\n",
              "       [[ 0.  ],\n",
              "        [-0.33],\n",
              "        [ 0.  ],\n",
              "        [ 1.  ],\n",
              "        [ 1.  ]],\n",
              "\n",
              "       [[ 0.  ],\n",
              "        [ 0.33],\n",
              "        [ 0.33],\n",
              "        [ 0.  ],\n",
              "        [ 1.33]]])"
            ]
          },
          "metadata": {},
          "execution_count": 33
        }
      ]
    },
    {
      "cell_type": "markdown",
      "source": [
        "It still works!"
      ],
      "metadata": {
        "id": "rDpJpnwWuwpm"
      }
    },
    {
      "cell_type": "code",
      "source": [],
      "metadata": {
        "id": "T1tBg25yuq0J"
      },
      "execution_count": null,
      "outputs": []
    }
  ]
}