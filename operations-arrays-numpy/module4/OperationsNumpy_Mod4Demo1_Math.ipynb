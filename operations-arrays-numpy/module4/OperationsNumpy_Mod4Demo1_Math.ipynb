{
  "nbformat": 4,
  "nbformat_minor": 0,
  "metadata": {
    "colab": {
      "provenance": [],
      "authorship_tag": "ABX9TyOZgosUEXV+XCei1fAqcEVs",
      "include_colab_link": true
    },
    "kernelspec": {
      "name": "python3",
      "display_name": "Python 3"
    },
    "language_info": {
      "name": "python"
    }
  },
  "cells": [
    {
      "cell_type": "markdown",
      "metadata": {
        "id": "view-in-github",
        "colab_type": "text"
      },
      "source": [
        "<a href=\"https://colab.research.google.com/github/axel-sirota/operations-arrays-numpy/blob/main/module4/OperationsNumpy_Mod4Demo1_Math.ipynb\" target=\"_parent\"><img src=\"https://colab.research.google.com/assets/colab-badge.svg\" alt=\"Open In Colab\"/></a>"
      ]
    },
    {
      "cell_type": "markdown",
      "source": [
        "# Arithmetic on Numpy"
      ],
      "metadata": {
        "id": "kJ1k7bOkICai"
      }
    },
    {
      "cell_type": "markdown",
      "source": [
        "## Prep"
      ],
      "metadata": {
        "id": "W7lC_7pNeTml"
      }
    },
    {
      "cell_type": "markdown",
      "source": [
        "Let's recall how to access data in lists. For that we will leverage the dtaset for this course, whch is the results of an actual beheivoural experiment conducted by Universidad de la Matanza (UNLaM)"
      ],
      "metadata": {
        "id": "n5GNF-_2IFhN"
      }
    },
    {
      "cell_type": "code",
      "source": [
        "%%writefile get_data.sh\n",
        "if [ ! -f dataset.csv ]; then\n",
        "  wget -O dataset.csv https://www.dropbox.com/s/9t5lc04vxwvjvo6/dataset.csv?dl=0\n",
        "fi"
      ],
      "metadata": {
        "colab": {
          "base_uri": "https://localhost:8080/"
        },
        "id": "NzUB82EcIWB8",
        "outputId": "b9d34d3c-51da-4f7d-f5ba-f55bdd2be8bc"
      },
      "execution_count": 2,
      "outputs": [
        {
          "output_type": "stream",
          "name": "stdout",
          "text": [
            "Writing get_data.sh\n"
          ]
        }
      ]
    },
    {
      "cell_type": "code",
      "source": [
        "!bash get_data.sh\n"
      ],
      "metadata": {
        "id": "hh-cUVYvIgdK",
        "colab": {
          "base_uri": "https://localhost:8080/"
        },
        "outputId": "71bd78fc-9d49-47fc-d398-b630f9e4e0d1"
      },
      "execution_count": 3,
      "outputs": [
        {
          "output_type": "stream",
          "name": "stdout",
          "text": [
            "--2023-02-21 13:30:57--  https://www.dropbox.com/s/9t5lc04vxwvjvo6/dataset.csv?dl=0\n",
            "Resolving www.dropbox.com (www.dropbox.com)... 162.125.5.18, 2620:100:601d:18::a27d:512\n",
            "Connecting to www.dropbox.com (www.dropbox.com)|162.125.5.18|:443... connected.\n",
            "HTTP request sent, awaiting response... 302 Found\n",
            "Location: /s/raw/9t5lc04vxwvjvo6/dataset.csv [following]\n",
            "--2023-02-21 13:30:58--  https://www.dropbox.com/s/raw/9t5lc04vxwvjvo6/dataset.csv\n",
            "Reusing existing connection to www.dropbox.com:443.\n",
            "HTTP request sent, awaiting response... 302 Found\n",
            "Location: https://ucb85c8b60f0a42b8460a79c58c9.dl.dropboxusercontent.com/cd/0/inline/B24kHE8dvWEQY1c2R8hLvlw7V-0L-tIj8W7ryUrxb1OtiKGYDZy9EcAgSd0CTuIuHg3_iIOr2J7VoTcazPWiqsi6tIqfVmNjKzD-7CRWsJS9ciJ2SNgfDL8CQwOBNh4UApNmT9x5DpAYDGr63qOXvNvUDhcARRTn5-_brZBmf2udDg/file# [following]\n",
            "--2023-02-21 13:30:58--  https://ucb85c8b60f0a42b8460a79c58c9.dl.dropboxusercontent.com/cd/0/inline/B24kHE8dvWEQY1c2R8hLvlw7V-0L-tIj8W7ryUrxb1OtiKGYDZy9EcAgSd0CTuIuHg3_iIOr2J7VoTcazPWiqsi6tIqfVmNjKzD-7CRWsJS9ciJ2SNgfDL8CQwOBNh4UApNmT9x5DpAYDGr63qOXvNvUDhcARRTn5-_brZBmf2udDg/file\n",
            "Resolving ucb85c8b60f0a42b8460a79c58c9.dl.dropboxusercontent.com (ucb85c8b60f0a42b8460a79c58c9.dl.dropboxusercontent.com)... 162.125.5.15, 2620:100:601d:15::a27d:50f\n",
            "Connecting to ucb85c8b60f0a42b8460a79c58c9.dl.dropboxusercontent.com (ucb85c8b60f0a42b8460a79c58c9.dl.dropboxusercontent.com)|162.125.5.15|:443... connected.\n",
            "HTTP request sent, awaiting response... 200 OK\n",
            "Length: 5847 (5.7K) [text/plain]\n",
            "Saving to: ‘dataset.csv’\n",
            "\n",
            "dataset.csv         100%[===================>]   5.71K  --.-KB/s    in 0s      \n",
            "\n",
            "2023-02-21 13:30:58 (559 MB/s) - ‘dataset.csv’ saved [5847/5847]\n",
            "\n"
          ]
        }
      ]
    },
    {
      "cell_type": "code",
      "execution_count": 4,
      "metadata": {
        "id": "PsZMIKkLHh-4"
      },
      "outputs": [],
      "source": [
        "import numpy as np"
      ]
    },
    {
      "cell_type": "code",
      "source": [
        "numpy_arr = np.genfromtxt('dataset.csv', delimiter=',')"
      ],
      "metadata": {
        "id": "RsLI_E9tpDWd"
      },
      "execution_count": 5,
      "outputs": []
    },
    {
      "cell_type": "markdown",
      "source": [
        "## Basic Arithmetic between arrays"
      ],
      "metadata": {
        "id": "l2OfZAJOKWPh"
      }
    },
    {
      "cell_type": "markdown",
      "source": [
        "We can easily do the normal operations like addition or multiplication between numpy arrays"
      ],
      "metadata": {
        "id": "NVLtgleIKY_Q"
      }
    },
    {
      "cell_type": "code",
      "source": [
        "a = numpy_arr[2:4, :5]\n",
        "b = numpy_arr[5:7, 5:10]"
      ],
      "metadata": {
        "id": "T1tBg25yuq0J"
      },
      "execution_count": 6,
      "outputs": []
    },
    {
      "cell_type": "code",
      "source": [
        "a+b"
      ],
      "metadata": {
        "colab": {
          "base_uri": "https://localhost:8080/"
        },
        "id": "jxIEdRffKyMh",
        "outputId": "894057a5-3d25-4f50-e341-f0cf5fdef95c"
      },
      "execution_count": 7,
      "outputs": [
        {
          "output_type": "execute_result",
          "data": {
            "text/plain": [
              "array([[3.33, 5.  , 6.  , 4.  , 6.  ],\n",
              "       [5.33, 3.  , 4.  , 2.  , 4.33]])"
            ]
          },
          "metadata": {},
          "execution_count": 7
        }
      ]
    },
    {
      "cell_type": "code",
      "source": [
        "a*b"
      ],
      "metadata": {
        "colab": {
          "base_uri": "https://localhost:8080/"
        },
        "id": "Qhn6LAJRK59j",
        "outputId": "294e4a61-0e86-4bc5-d741-0f70262177cb"
      },
      "execution_count": 8,
      "outputs": [
        {
          "output_type": "execute_result",
          "data": {
            "text/plain": [
              "array([[2.66, 0.  , 9.  , 0.  , 8.  ],\n",
              "       [6.99, 0.  , 4.  , 0.  , 4.66]])"
            ]
          },
          "metadata": {},
          "execution_count": 8
        }
      ]
    },
    {
      "cell_type": "markdown",
      "source": [
        "As you can see, and we have seen in the demo on Broadcasting, the operation is done elementwise.\n",
        "\n",
        "If the dimensions don't match or they broadcasting fails, we get an exception"
      ],
      "metadata": {
        "id": "sPwgnAV6K92c"
      }
    },
    {
      "cell_type": "code",
      "source": [
        "c= numpy_arr[3:6, 5:10]\n",
        "print(f'a shape is {a.shape} and c shape is {c.shape}')"
      ],
      "metadata": {
        "colab": {
          "base_uri": "https://localhost:8080/"
        },
        "id": "k38KS65NK8WC",
        "outputId": "a8e7a049-0203-4e9b-af82-b901a2776fab"
      },
      "execution_count": 9,
      "outputs": [
        {
          "output_type": "stream",
          "name": "stdout",
          "text": [
            "a shape is (2, 5) and c shape is (3, 5)\n"
          ]
        }
      ]
    },
    {
      "cell_type": "code",
      "source": [
        "a*c"
      ],
      "metadata": {
        "colab": {
          "base_uri": "https://localhost:8080/",
          "height": 169
        },
        "id": "Akv3EMKYLXcg",
        "outputId": "5e8ec5ee-2757-4861-d50e-12fedd4b8118"
      },
      "execution_count": 10,
      "outputs": [
        {
          "output_type": "error",
          "ename": "ValueError",
          "evalue": "ignored",
          "traceback": [
            "\u001b[0;31m---------------------------------------------------------------------------\u001b[0m",
            "\u001b[0;31mValueError\u001b[0m                                Traceback (most recent call last)",
            "\u001b[0;32m<ipython-input-10-531f218278af>\u001b[0m in \u001b[0;36m<module>\u001b[0;34m\u001b[0m\n\u001b[0;32m----> 1\u001b[0;31m \u001b[0ma\u001b[0m\u001b[0;34m*\u001b[0m\u001b[0mc\u001b[0m\u001b[0;34m\u001b[0m\u001b[0;34m\u001b[0m\u001b[0m\n\u001b[0m",
            "\u001b[0;31mValueError\u001b[0m: operands could not be broadcast together with shapes (2,5) (3,5) "
          ]
        }
      ]
    },
    {
      "cell_type": "markdown",
      "source": [
        "## Arithmetic within the array"
      ],
      "metadata": {
        "id": "uRbWbFHtLcvL"
      }
    },
    {
      "cell_type": "markdown",
      "source": [
        "However, sometimes we want to do operations within the array, for example: *What is the sum of the second column? Or the mean?*"
      ],
      "metadata": {
        "id": "6PXiU8EwLfKE"
      }
    },
    {
      "cell_type": "code",
      "source": [
        "a = numpy_arr[:,1]\n",
        "a.sum()"
      ],
      "metadata": {
        "colab": {
          "base_uri": "https://localhost:8080/"
        },
        "id": "ldkBnB0ELYBG",
        "outputId": "4df43d19-f06a-4a78-e849-a2357fc3a76f"
      },
      "execution_count": 13,
      "outputs": [
        {
          "output_type": "execute_result",
          "data": {
            "text/plain": [
              "235.0"
            ]
          },
          "metadata": {},
          "execution_count": 13
        }
      ]
    },
    {
      "cell_type": "code",
      "source": [
        "np.sum(a)"
      ],
      "metadata": {
        "colab": {
          "base_uri": "https://localhost:8080/"
        },
        "id": "ftXAZSdILtbZ",
        "outputId": "10cb73d5-b0d9-4793-9856-cdcae5698f12"
      },
      "execution_count": 14,
      "outputs": [
        {
          "output_type": "execute_result",
          "data": {
            "text/plain": [
              "235.0"
            ]
          },
          "metadata": {},
          "execution_count": 14
        }
      ]
    },
    {
      "cell_type": "markdown",
      "source": [
        "Both work! Notice in this case it was easy because there was only one dimension over to take the operand.\n",
        "\n",
        "We can also calculate the *mean*, *std*, *abs*, all trigonometric functions, and more..."
      ],
      "metadata": {
        "id": "Kw6M-mwYLvbB"
      }
    },
    {
      "cell_type": "code",
      "source": [
        "np.abs(a).mean()"
      ],
      "metadata": {
        "colab": {
          "base_uri": "https://localhost:8080/"
        },
        "id": "naWs-LVMLp99",
        "outputId": "191fe9a6-30e4-4aa4-dff9-99eec39ef9e6"
      },
      "execution_count": 15,
      "outputs": [
        {
          "output_type": "execute_result",
          "data": {
            "text/plain": [
              "1.1809045226130652"
            ]
          },
          "metadata": {},
          "execution_count": 15
        }
      ]
    },
    {
      "cell_type": "code",
      "source": [
        "d = np.cos(a)   # Returns an array, it broadcasts the function"
      ],
      "metadata": {
        "id": "5UGoMzkdMDtB"
      },
      "execution_count": 18,
      "outputs": []
    },
    {
      "cell_type": "code",
      "source": [
        "d.mean()"
      ],
      "metadata": {
        "colab": {
          "base_uri": "https://localhost:8080/"
        },
        "id": "eztkHAkoMGBj",
        "outputId": "6f3560cc-9d8c-411c-9bbc-96ccac479b56"
      },
      "execution_count": 20,
      "outputs": [
        {
          "output_type": "execute_result",
          "data": {
            "text/plain": [
              "0.2849004620475214"
            ]
          },
          "metadata": {},
          "execution_count": 20
        }
      ]
    },
    {
      "cell_type": "markdown",
      "source": [
        "Let's see what happens if we want to handle other columns"
      ],
      "metadata": {
        "id": "2JE5Sj6NMTjR"
      }
    },
    {
      "cell_type": "code",
      "source": [
        "e = numpy_arr[:, 2:8]\n",
        "e.shape"
      ],
      "metadata": {
        "colab": {
          "base_uri": "https://localhost:8080/"
        },
        "id": "VI-_uFbgMOXC",
        "outputId": "ef301dd4-89ce-4ece-f455-b1da05605ffd"
      },
      "execution_count": 21,
      "outputs": [
        {
          "output_type": "execute_result",
          "data": {
            "text/plain": [
              "(199, 6)"
            ]
          },
          "metadata": {},
          "execution_count": 21
        }
      ]
    },
    {
      "cell_type": "code",
      "source": [
        "e.sum()"
      ],
      "metadata": {
        "colab": {
          "base_uri": "https://localhost:8080/"
        },
        "id": "QWnP-l3JMZLy",
        "outputId": "21943de7-d0bd-4721-b33b-32adc4f2804c"
      },
      "execution_count": 22,
      "outputs": [
        {
          "output_type": "execute_result",
          "data": {
            "text/plain": [
              "nan"
            ]
          },
          "metadata": {},
          "execution_count": 22
        }
      ]
    },
    {
      "cell_type": "markdown",
      "source": [
        "**What happened?**"
      ],
      "metadata": {
        "id": "01WIAa6JMbyL"
      }
    },
    {
      "cell_type": "markdown",
      "source": [
        "When dealing with `NaN` the following rules apply:\n",
        "\n",
        "\n",
        "\n",
        "1.   `Scalar + NaN = NaN`\n",
        "2.   `Scalar * NaN = NaN`\n",
        "\n",
        "So we need to tackle the `NaN`s first, luckily we have done it in a previous demo\n"
      ],
      "metadata": {
        "id": "7lbyrS5YM4oA"
      }
    },
    {
      "cell_type": "markdown",
      "source": [
        "## Handling NaN"
      ],
      "metadata": {
        "id": "ZS4R91EMQQyr"
      }
    },
    {
      "cell_type": "code",
      "source": [
        "~np.isnan(numpy_arr)"
      ],
      "metadata": {
        "colab": {
          "base_uri": "https://localhost:8080/"
        },
        "id": "iihcXBxFMaat",
        "outputId": "5d4d3e5d-4910-447b-a6b7-d42ebef11202"
      },
      "execution_count": 27,
      "outputs": [
        {
          "output_type": "execute_result",
          "data": {
            "text/plain": [
              "array([[ True,  True,  True, ...,  True,  True,  True],\n",
              "       [ True,  True,  True, ...,  True,  True,  True],\n",
              "       [ True,  True,  True, ...,  True,  True,  True],\n",
              "       ...,\n",
              "       [ True,  True, False, ..., False, False, False],\n",
              "       [ True,  True, False, ..., False, False, False],\n",
              "       [ True,  True, False, ..., False, False, False]])"
            ]
          },
          "metadata": {},
          "execution_count": 27
        }
      ]
    },
    {
      "cell_type": "markdown",
      "source": [
        "Here we have the indexer of values that are not NaN.\n",
        "\n",
        "Now we need to get a True if all of the columns are True for that row. That means on axis=1"
      ],
      "metadata": {
        "id": "mRBrRKosO7bG"
      }
    },
    {
      "cell_type": "code",
      "source": [
        "~np.isnan(numpy_arr).any(axis=1)"
      ],
      "metadata": {
        "colab": {
          "base_uri": "https://localhost:8080/"
        },
        "id": "MJ48cX2sOF0W",
        "outputId": "1de134b1-4633-42b5-a176-8abb88078959"
      },
      "execution_count": 28,
      "outputs": [
        {
          "output_type": "execute_result",
          "data": {
            "text/plain": [
              "array([ True,  True,  True,  True,  True,  True,  True,  True,  True,\n",
              "        True,  True,  True,  True,  True,  True,  True,  True,  True,\n",
              "        True,  True,  True,  True,  True,  True,  True,  True,  True,\n",
              "        True, False, False, False, False, False,  True,  True,  True,\n",
              "        True,  True,  True,  True,  True,  True,  True,  True,  True,\n",
              "        True,  True,  True,  True,  True,  True,  True,  True,  True,\n",
              "        True,  True,  True,  True,  True,  True,  True,  True,  True,\n",
              "        True,  True,  True,  True,  True,  True,  True,  True,  True,\n",
              "        True,  True,  True,  True,  True,  True,  True,  True,  True,\n",
              "        True,  True,  True,  True,  True,  True,  True,  True,  True,\n",
              "        True,  True,  True,  True,  True,  True,  True,  True,  True,\n",
              "        True,  True,  True,  True,  True,  True, False, False, False,\n",
              "       False, False, False, False, False, False, False, False, False,\n",
              "       False, False, False, False, False, False, False, False, False,\n",
              "       False, False, False, False,  True,  True,  True,  True,  True,\n",
              "        True,  True,  True,  True,  True,  True,  True,  True,  True,\n",
              "        True,  True,  True,  True,  True,  True,  True,  True,  True,\n",
              "        True,  True,  True,  True,  True,  True,  True,  True,  True,\n",
              "        True,  True,  True,  True,  True,  True,  True,  True,  True,\n",
              "        True,  True,  True,  True,  True,  True,  True,  True,  True,\n",
              "        True, False, False, False, False, False, False, False, False,\n",
              "       False, False, False, False, False, False, False, False, False,\n",
              "       False])"
            ]
          },
          "metadata": {},
          "execution_count": 28
        }
      ]
    },
    {
      "cell_type": "markdown",
      "source": [
        "The rows with `False` have `NaN` values and we will drop them. We will reassin this into a new array"
      ],
      "metadata": {
        "id": "SGKm6d9OPPV8"
      }
    },
    {
      "cell_type": "code",
      "source": [
        "cleaned_numpy_arr = numpy_arr[~np.isnan(numpy_arr).any(axis=1)]"
      ],
      "metadata": {
        "id": "CyLpA4kWPNRe"
      },
      "execution_count": 29,
      "outputs": []
    },
    {
      "cell_type": "code",
      "source": [
        "cleaned_numpy_arr.shape"
      ],
      "metadata": {
        "colab": {
          "base_uri": "https://localhost:8080/"
        },
        "id": "u7PKw-MSPY8M",
        "outputId": "a339e2db-f12a-4aa9-c8a2-b6a30189dc23"
      },
      "execution_count": 30,
      "outputs": [
        {
          "output_type": "execute_result",
          "data": {
            "text/plain": [
              "(151, 11)"
            ]
          },
          "metadata": {},
          "execution_count": 30
        }
      ]
    },
    {
      "cell_type": "code",
      "source": [
        "cleaned_numpy_arr.sum()"
      ],
      "metadata": {
        "colab": {
          "base_uri": "https://localhost:8080/"
        },
        "id": "Ai11zmg3PaH8",
        "outputId": "3f23bae9-5bd9-4ef5-b735-47665ef861a1"
      },
      "execution_count": 31,
      "outputs": [
        {
          "output_type": "execute_result",
          "data": {
            "text/plain": [
              "16658.97"
            ]
          },
          "metadata": {},
          "execution_count": 31
        }
      ]
    },
    {
      "cell_type": "markdown",
      "source": [
        "It worked!\n"
      ],
      "metadata": {
        "id": "RGFIfdYMPcfo"
      }
    },
    {
      "cell_type": "markdown",
      "source": [
        "## Working over axis"
      ],
      "metadata": {
        "id": "SEza_bciQWwk"
      }
    },
    {
      "cell_type": "markdown",
      "source": [
        "\n",
        "Now, how can we get the sum and average over the columns? Specifying the axis to be zero! In that case the axis 0 (rows) is where it will sum"
      ],
      "metadata": {
        "id": "chUNKvPmQUo8"
      }
    },
    {
      "cell_type": "code",
      "source": [
        "cleaned_numpy_arr.sum(axis=0)"
      ],
      "metadata": {
        "colab": {
          "base_uri": "https://localhost:8080/"
        },
        "id": "Or13LNlAPbm3",
        "outputId": "50273605-2acf-4448-8ab1-4ae4b023aaf0"
      },
      "execution_count": 35,
      "outputs": [
        {
          "output_type": "execute_result",
          "data": {
            "text/plain": [
              "array([13215.  ,   174.  ,   478.  ,   203.  ,   294.  ,   324.99,\n",
              "         441.  ,   491.  ,   445.  ,   458.98,   134.  ])"
            ]
          },
          "metadata": {},
          "execution_count": 35
        }
      ]
    },
    {
      "cell_type": "code",
      "source": [
        "cleaned_numpy_arr.mean(axis=0)"
      ],
      "metadata": {
        "colab": {
          "base_uri": "https://localhost:8080/"
        },
        "id": "eOC0WVDBPnMF",
        "outputId": "9749ad2e-47dc-4785-aa53-ddada5a1bf67"
      },
      "execution_count": 36,
      "outputs": [
        {
          "output_type": "execute_result",
          "data": {
            "text/plain": [
              "array([87.51655629,  1.15231788,  3.16556291,  1.34437086,  1.94701987,\n",
              "        2.15225166,  2.9205298 ,  3.25165563,  2.94701987,  3.03960265,\n",
              "        0.88741722])"
            ]
          },
          "metadata": {},
          "execution_count": 36
        }
      ]
    },
    {
      "cell_type": "markdown",
      "source": [
        "**To finalise, can you get the mean and standard deviation of the 5th column?**"
      ],
      "metadata": {
        "id": "luEUGNjCQFPQ"
      }
    },
    {
      "cell_type": "code",
      "source": [
        "f = cleaned_numpy_arr[:,7]\n",
        "mean = f.mean(axis=0)\n",
        "std = f.std(axis=0)\n",
        "print(f'The mean is {mean} and the std is {std}')"
      ],
      "metadata": {
        "colab": {
          "base_uri": "https://localhost:8080/"
        },
        "id": "6mIvuw0BPpbO",
        "outputId": "fed14676-2571-40cc-e097-0f6d97179a97"
      },
      "execution_count": 37,
      "outputs": [
        {
          "output_type": "stream",
          "name": "stdout",
          "text": [
            "The mean is 3.251655629139073 and the std is 1.0991781580483504\n"
          ]
        }
      ]
    },
    {
      "cell_type": "code",
      "source": [],
      "metadata": {
        "id": "GLjpzqEqQl-9"
      },
      "execution_count": null,
      "outputs": []
    }
  ]
}