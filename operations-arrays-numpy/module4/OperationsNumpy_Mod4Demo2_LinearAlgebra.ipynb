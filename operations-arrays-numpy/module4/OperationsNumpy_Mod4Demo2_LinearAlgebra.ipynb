{
  "nbformat": 4,
  "nbformat_minor": 0,
  "metadata": {
    "colab": {
      "provenance": [],
      "authorship_tag": "ABX9TyOnIb9HjmbhSL3icIIMKfIL",
      "include_colab_link": true
    },
    "kernelspec": {
      "name": "python3",
      "display_name": "Python 3"
    },
    "language_info": {
      "name": "python"
    }
  },
  "cells": [
    {
      "cell_type": "markdown",
      "metadata": {
        "id": "view-in-github",
        "colab_type": "text"
      },
      "source": [
        "<a href=\"https://colab.research.google.com/github/axel-sirota/operations-arrays-numpy/blob/main/module4/OperationsNumpy_Mod4Demo2_LinearAlgebra.ipynb\" target=\"_parent\"><img src=\"https://colab.research.google.com/assets/colab-badge.svg\" alt=\"Open In Colab\"/></a>"
      ]
    },
    {
      "cell_type": "markdown",
      "source": [
        "# Arithmetic on Numpy"
      ],
      "metadata": {
        "id": "kJ1k7bOkICai"
      }
    },
    {
      "cell_type": "markdown",
      "source": [
        "## Prep"
      ],
      "metadata": {
        "id": "W7lC_7pNeTml"
      }
    },
    {
      "cell_type": "markdown",
      "source": [
        "Let's recall how to access data in lists. For that we will leverage the dtaset for this course, whch is the results of an actual beheivoural experiment conducted by Universidad de la Matanza (UNLaM)"
      ],
      "metadata": {
        "id": "n5GNF-_2IFhN"
      }
    },
    {
      "cell_type": "code",
      "source": [
        "%%writefile get_data.sh\n",
        "if [ ! -f dataset.csv ]; then\n",
        "  wget -O dataset.csv https://www.dropbox.com/s/9t5lc04vxwvjvo6/dataset.csv?dl=0\n",
        "fi"
      ],
      "metadata": {
        "colab": {
          "base_uri": "https://localhost:8080/"
        },
        "id": "NzUB82EcIWB8",
        "outputId": "e90f4613-0257-4ebf-c33d-40196f381791"
      },
      "execution_count": 38,
      "outputs": [
        {
          "output_type": "stream",
          "name": "stdout",
          "text": [
            "Overwriting get_data.sh\n"
          ]
        }
      ]
    },
    {
      "cell_type": "code",
      "source": [
        "!bash get_data.sh\n"
      ],
      "metadata": {
        "id": "hh-cUVYvIgdK"
      },
      "execution_count": 39,
      "outputs": []
    },
    {
      "cell_type": "code",
      "execution_count": 40,
      "metadata": {
        "id": "PsZMIKkLHh-4"
      },
      "outputs": [],
      "source": [
        "import numpy as np"
      ]
    },
    {
      "cell_type": "code",
      "source": [
        "numpy_arr = np.genfromtxt('dataset.csv', delimiter=',')"
      ],
      "metadata": {
        "id": "RsLI_E9tpDWd"
      },
      "execution_count": 41,
      "outputs": []
    },
    {
      "cell_type": "markdown",
      "source": [
        "## Basic Linear Algebra"
      ],
      "metadata": {
        "id": "l2OfZAJOKWPh"
      }
    },
    {
      "cell_type": "markdown",
      "source": [
        "Given two Numpy arrays, we can also do classical Matrix multiplication and addition."
      ],
      "metadata": {
        "id": "Imyehb-yTAQB"
      }
    },
    {
      "cell_type": "code",
      "source": [
        "a = numpy_arr[2:6, 7:11]\n",
        "b = numpy_arr[23:27, 3:7]"
      ],
      "metadata": {
        "id": "y_YFmddDTKI7"
      },
      "execution_count": 47,
      "outputs": []
    },
    {
      "cell_type": "code",
      "source": [
        "print(f'a shape is {a.shape} and b shape is {b.shape}')"
      ],
      "metadata": {
        "colab": {
          "base_uri": "https://localhost:8080/"
        },
        "id": "FXUvEJcnTWKD",
        "outputId": "6a42f266-369d-4b3f-a803-3e2b4f1f82a5"
      },
      "execution_count": 48,
      "outputs": [
        {
          "output_type": "stream",
          "name": "stdout",
          "text": [
            "a shape is (4, 4) and b shape is (4, 4)\n"
          ]
        }
      ]
    },
    {
      "cell_type": "code",
      "source": [
        "a + b"
      ],
      "metadata": {
        "colab": {
          "base_uri": "https://localhost:8080/"
        },
        "id": "j_3owxg8TWNU",
        "outputId": "02768a76-3bd8-489d-eafe-44706c0dba9f"
      },
      "execution_count": 49,
      "outputs": [
        {
          "output_type": "execute_result",
          "data": {
            "text/plain": [
              "array([[4.  , 6.  , 6.  , 6.33],\n",
              "       [5.  , 6.  , 6.34, 6.33],\n",
              "       [4.  , 8.  , 6.66, 7.  ],\n",
              "       [3.  , 6.  , 6.33, 6.67]])"
            ]
          },
          "metadata": {},
          "execution_count": 49
        }
      ]
    },
    {
      "cell_type": "code",
      "source": [
        "a.dot(b)  # Remember a * b is elementwise"
      ],
      "metadata": {
        "colab": {
          "base_uri": "https://localhost:8080/"
        },
        "id": "Wpp4FI4eTWR-",
        "outputId": "f73f58c7-df57-478f-bade-65aedf4b05d5"
      },
      "execution_count": 50,
      "outputs": [
        {
          "output_type": "execute_result",
          "data": {
            "text/plain": [
              "array([[ 4.    , 28.66  , 29.4289, 57.32  ],\n",
              "       [ 5.    , 33.67  , 34.99  , 67.67  ],\n",
              "       [ 5.    , 29.99  , 31.0989, 60.65  ],\n",
              "       [ 4.    , 27.34  , 28.2211, 54.68  ]])"
            ]
          },
          "metadata": {},
          "execution_count": 50
        }
      ]
    },
    {
      "cell_type": "markdown",
      "source": [
        "Let's verify it is indeed the matrix multiplication because it will fails if the dimensions rule doesn't comply "
      ],
      "metadata": {
        "id": "4gMi_MupUF1Z"
      }
    },
    {
      "cell_type": "code",
      "source": [
        "b = numpy_arr[23:26, 3:7]\n",
        "b.shape"
      ],
      "metadata": {
        "colab": {
          "base_uri": "https://localhost:8080/"
        },
        "id": "SNAOkWD_UPPl",
        "outputId": "63e621e5-b03c-4287-9393-68c4ec579dc4"
      },
      "execution_count": 51,
      "outputs": [
        {
          "output_type": "execute_result",
          "data": {
            "text/plain": [
              "(3, 4)"
            ]
          },
          "metadata": {},
          "execution_count": 51
        }
      ]
    },
    {
      "cell_type": "code",
      "source": [
        "a.dot(b)"
      ],
      "metadata": {
        "colab": {
          "base_uri": "https://localhost:8080/",
          "height": 169
        },
        "id": "9T2EufOKUTa7",
        "outputId": "19336021-5053-48ac-8fcd-411429451a29"
      },
      "execution_count": 52,
      "outputs": [
        {
          "output_type": "error",
          "ename": "ValueError",
          "evalue": "ignored",
          "traceback": [
            "\u001b[0;31m---------------------------------------------------------------------------\u001b[0m",
            "\u001b[0;31mValueError\u001b[0m                                Traceback (most recent call last)",
            "\u001b[0;32m<ipython-input-52-ac6884f5cff1>\u001b[0m in \u001b[0;36m<module>\u001b[0;34m\u001b[0m\n\u001b[0;32m----> 1\u001b[0;31m \u001b[0ma\u001b[0m\u001b[0;34m.\u001b[0m\u001b[0mdot\u001b[0m\u001b[0;34m(\u001b[0m\u001b[0mb\u001b[0m\u001b[0;34m)\u001b[0m\u001b[0;34m\u001b[0m\u001b[0;34m\u001b[0m\u001b[0m\n\u001b[0m",
            "\u001b[0;31mValueError\u001b[0m: shapes (4,4) and (3,4) not aligned: 4 (dim 1) != 3 (dim 0)"
          ]
        }
      ]
    },
    {
      "cell_type": "code",
      "source": [
        "b.dot(a)"
      ],
      "metadata": {
        "colab": {
          "base_uri": "https://localhost:8080/"
        },
        "id": "ScI9tE6xUUf9",
        "outputId": "ed050c2a-18f0-4c67-a04c-5bae9fcbe29e"
      },
      "execution_count": 53,
      "outputs": [
        {
          "output_type": "execute_result",
          "data": {
            "text/plain": [
              "array([[28.    , 36.    , 34.    , 21.34  ],\n",
              "       [23.68  , 29.35  , 27.9011, 17.01  ],\n",
              "       [36.32  , 46.65  , 44.0989, 28.    ]])"
            ]
          },
          "metadata": {},
          "execution_count": 53
        }
      ]
    },
    {
      "cell_type": "markdown",
      "source": [
        "Indeed it is matrix multiplication"
      ],
      "metadata": {
        "id": "Cgj0wyDJUX3y"
      }
    },
    {
      "cell_type": "markdown",
      "source": [
        "## Solving a linear system"
      ],
      "metadata": {
        "id": "44iYhJ3PTHrI"
      }
    },
    {
      "cell_type": "markdown",
      "source": [
        "In numpy we can do the normal linear algebra operations. For example, we can solve the system:\n",
        "\n",
        "```\n",
        "A*x = b\n",
        "```\n",
        "Where the shapes are:\n",
        "```\n",
        "A -> (n,m)\n",
        "x -> (m, 1)\n",
        "b -> (m,1)\n",
        "```"
      ],
      "metadata": {
        "id": "NVLtgleIKY_Q"
      }
    },
    {
      "cell_type": "code",
      "source": [
        "A = numpy_arr[5:10, 5:10].reshape(5,5)\n",
        "b = numpy_arr[6, 5:10].reshape(5,1)"
      ],
      "metadata": {
        "id": "T1tBg25yuq0J"
      },
      "execution_count": 61,
      "outputs": []
    },
    {
      "cell_type": "code",
      "source": [
        "print(f'A shape is {A.shape} and b shape is {b.shape}')"
      ],
      "metadata": {
        "colab": {
          "base_uri": "https://localhost:8080/"
        },
        "id": "nW2B4PwFSnmY",
        "outputId": "7abe99b5-7d28-47ae-8a7f-ab8cf1f79342"
      },
      "execution_count": 62,
      "outputs": [
        {
          "output_type": "stream",
          "name": "stdout",
          "text": [
            "A shape is (5, 5) and b shape is (5, 1)\n"
          ]
        }
      ]
    },
    {
      "cell_type": "code",
      "source": [
        "x = np.linalg.inv(A).dot(b)"
      ],
      "metadata": {
        "id": "GLjpzqEqQl-9"
      },
      "execution_count": 63,
      "outputs": []
    },
    {
      "cell_type": "code",
      "source": [
        "x"
      ],
      "metadata": {
        "colab": {
          "base_uri": "https://localhost:8080/"
        },
        "id": "1fNVCbjhUgW3",
        "outputId": "d7b0d2fb-8f0f-49ff-ebb8-07f2ea94e667"
      },
      "execution_count": 64,
      "outputs": [
        {
          "output_type": "execute_result",
          "data": {
            "text/plain": [
              "array([[   2.01515152],\n",
              "       [-161.26020202],\n",
              "       [-161.81691919],\n",
              "       [-162.05363636],\n",
              "       [ 484.9040404 ]])"
            ]
          },
          "metadata": {},
          "execution_count": 64
        }
      ]
    },
    {
      "cell_type": "markdown",
      "source": [],
      "metadata": {
        "id": "ziWegsHvUwe0"
      }
    },
    {
      "cell_type": "code",
      "source": [],
      "metadata": {
        "id": "IlPXf8xNUtVP"
      },
      "execution_count": null,
      "outputs": []
    }
  ]
}